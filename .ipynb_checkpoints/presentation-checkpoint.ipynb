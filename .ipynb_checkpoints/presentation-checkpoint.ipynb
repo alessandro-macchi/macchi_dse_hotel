{
 "cells": [
  {
   "cell_type": "markdown",
   "metadata": {
    "vscode": {
     "languageId": "latex"
    }
   },
   "source": [
    "# <p align=\"center\"> Hotel Allocation Project </p> #\n",
    "## <p align=\"right\"> Alessandro Macchi - 53633A </p> ##"
   ]
  },
  {
   "cell_type": "markdown",
   "metadata": {},
   "source": [
    "## <p> Introduction </p> ##"
   ]
  },
  {
   "cell_type": "markdown",
   "metadata": {},
   "source": [
    "In this project, the focus is on optimizing hotel room allocation strategies to balance revenue generation, room occupancy, and guest satisfaction. Using datasets containing hotel information, guest preferences, and room pricing, we developed several allocation strategies. These strategies include random assignment, prioritizing guest preferences, assigning based on cost, and allocating according to room availability. The goal was to analyze which strategy most effectively maximizes hotel occupancy rates, optimizes customer satisfaction, and generates the highest revenue, while considering specific factors like discount rates."
   ]
  },
  {
   "cell_type": "markdown",
   "metadata": {},
   "source": [
    "### <p> Preliminary assumptions </p>"
   ]
  },
  {
   "cell_type": "markdown",
   "metadata": {},
   "source": [
    "<p> Before presenting the project, several assumptions about its scope and structure must be clarified. This code is tailored specifically to the provided datasets, and certain conditions are deliberately ignored due to the nature of the data. The two primary assumptions are as follows: (I) each hotel and guest has a unique, codified name, and (II) guests have only expressed preferences for hotels included in the datasets. Checking these conditions programmatically would require additional code and controls that would unnecessarily slow down the project; therefore, they have been omitted. Recognizing these limitations is essential for a full understanding of the project. Additionally, it should be noted that guests may express preferences for certain hotels multiple times. However, due to the method implemented to handle preferences (which will be discussed shortly), this repetition does not impact the results.</p>"
   ]
  },
  {
   "cell_type": "markdown",
   "metadata": {},
   "source": [
    "<p> At the start of each allocation, the datasets are reimported, and the DataFrames are restructured. This approach is intentional to ensure the independence of each strategy. This design allows users to allocate guests according to a specific criterion without running all the allocation strategies. By repeating these setup operations, each allocation strategy can function independently, providing results for the selected strategy without requiring the execution of the entire allocation code. </p>"
   ]
  },
  {
   "cell_type": "markdown",
   "metadata": {},
   "source": [
    "### <p> Functions </p> ###\n",
    "\n",
    "To enhance code organization and readability, the code has been modularized by grouping frequently used, user-defined functions into a separate folder (modules). This approach prevents redundancy by avoiding repeated blocks of similar code and promotes a cleaner, more efficient structure."
   ]
  },
  {
   "cell_type": "markdown",
   "metadata": {},
   "source": [
    "Before introducing the main functions and their characteristics, it is essential to ensure that the necessary libraries are imported."
   ]
  },
  {
   "cell_type": "code",
   "execution_count": 75,
   "metadata": {},
   "outputs": [],
   "source": [
    "import sys\n",
    "from pathlib import Path\n",
    "import pandas as pd\n",
    "import numpy as np\n",
    "import matplotlib.pyplot as plt\n",
    "import streamlit as st\n",
    "sys.path.append('C:/Users/Utente/Desktop/dse/1t/python_project/macchi_dse_hotel')"
   ]
  },
  {
   "cell_type": "markdown",
   "metadata": {},
   "source": [
    "<p>The <font color=\"green\">import_datasets()</font> function is responsible for loading all datasets required for the project.</p>"
   ]
  },
  {
   "cell_type": "code",
   "execution_count": 76,
   "metadata": {},
   "outputs": [],
   "source": [
    "def import_datasets(base_path = \"C:/Users/Utente/Desktop/dse/1t/python_project/Datasets/\"):\n",
    "    base_path = Path(base_path)\n",
    "    \n",
    "    hotel_df = pd.read_csv(base_path / \"hotels.csv\")\n",
    "    guests_df = pd.read_csv(base_path / \"guests.csv\")\n",
    "    priority_df = pd.read_csv(base_path / \"preferences.csv\")\n",
    "    \n",
    "    return hotel_df, guests_df, priority_df "
   ]
  },
  {
   "cell_type": "markdown",
   "metadata": {},
   "source": [
    "<p> The <font color=\"green\">create_dataframes()</font> function is one of the more complex functions in the project. It restructures the three imported datasets by modifying column arrangements and relocating certain data elements. For example, guest preferences are incorporated as a list of hotels ordered by preference and linked to each guest in *guests_df*. While this structure simplifies some allocation tasks, it also impacts code efficiency. </p>\n",
    "<p> The use of *list_of_preferences* instead of more sophisticated methods is driven by the speed of the process, as it outperforms other options in terms of efficiency. </p>"
   ]
  },
  {
   "cell_type": "code",
   "execution_count": 77,
   "metadata": {},
   "outputs": [],
   "source": [
    "def create_dataframes(hotel_df, guests_df, priority_df):\n",
    "    \n",
    "    hotel_df = hotel_df.rename(columns = {'hotel': 'name'})\n",
    "    hotel_df = hotel_df.rename(columns = {'rooms': 'initial_rooms'})\n",
    "    hotel_df['final_rooms'] = hotel_df['initial_rooms']\n",
    "\n",
    "    guests_df = guests_df.rename(columns={'guest': 'name'})\n",
    "    guests_df['preferences'] = None \n",
    "    \n",
    "    list_of_preferences = []\n",
    "    i = 0\n",
    "    for guest in guests_df['name']:\n",
    "        temporary_list = []\n",
    "        while i < len(priority_df) and priority_df['guest'][i] == guest:\n",
    "            temporary_list.append(priority_df['hotel'][i])\n",
    "            i += 1\n",
    "        list_of_preferences.append(temporary_list)\n",
    "    \n",
    "    guests_df['preferences'] = list_of_preferences\n",
    "    \n",
    "    return hotel_df, guests_df, priority_df"
   ]
  },
  {
   "cell_type": "markdown",
   "metadata": {},
   "source": [
    "The <font color=\"green\">hotel_wise_allocation()</font> function was developed to address the similar requirements of the Price and Availability strategies, enabling the main allocation process to be standardized across both methods."
   ]
  },
  {
   "cell_type": "code",
   "execution_count": 78,
   "metadata": {},
   "outputs": [],
   "source": [
    "def hotel_wise_allocation(hotel_df, guests_df, assignment):\n",
    "    for hotel_name, row in hotel_df.iterrows():\n",
    "        # create a vector with the guests that have the hotel_name in their preferences\n",
    "        guests_vector = guests_df[guests_df['preferences'].apply(lambda x: hotel_name in x)].index\n",
    "        for guest_name in guests_vector:\n",
    "            if row['final_rooms'] > 0 and guest_name not in assignment:\n",
    "                assignment[guest_name] = hotel_name\n",
    "                hotel_df.loc[hotel_name, 'final_rooms'] -= 1\n",
    "            if hotel_df.loc[hotel_name, 'final_rooms'] <= 0:\n",
    "                break\n",
    "    \n",
    "    return assignment"
   ]
  },
  {
   "cell_type": "markdown",
   "metadata": {},
   "source": [
    "The <font color=\"green\">number_of_customers_accommodated()</font> function calculates the total number of guests who have been assigned accommodations.\n",
    "\n"
   ]
  },
  {
   "cell_type": "code",
   "execution_count": 79,
   "metadata": {},
   "outputs": [],
   "source": [
    "def number_of_customers_accommodated(assignment):\n",
    "    assigned_guests = len(assignment)\n",
    "    \n",
    "    return assigned_guests"
   ]
  },
  {
   "cell_type": "markdown",
   "metadata": {},
   "source": [
    "The <font color=\"green\">number_of_rooms_occupied()</font> function calculates the total number of rooms that have been occupied, corresponding to the number of assigned guests. This calculation is performed using the NumPy library."
   ]
  },
  {
   "cell_type": "code",
   "execution_count": 80,
   "metadata": {},
   "outputs": [],
   "source": [
    "def number_of_rooms_occupied(hotel_df):\n",
    "    initial_rooms = hotel_df['initial_rooms'].to_numpy()\n",
    "    final_rooms = hotel_df['final_rooms'].to_numpy()\n",
    "    occupied_rooms = np.sum(initial_rooms - final_rooms)\n",
    "    \n",
    "    return occupied_rooms"
   ]
  },
  {
   "cell_type": "markdown",
   "metadata": {},
   "source": [
    "The <font color=\"green\">number_of_different_hotels_occupied()</font> function determines the number of hotels that are fully booked by the end of the allocation process."
   ]
  },
  {
   "cell_type": "code",
   "execution_count": 81,
   "metadata": {},
   "outputs": [],
   "source": [
    "def number_of_different_hotels_occupied(hotel_df):\n",
    "    full_hotels = 0\n",
    "    for hotel in hotel_df.index:\n",
    "        if hotel_df.loc[hotel, 'final_rooms'] == 0:\n",
    "            full_hotels += 1\n",
    "    \n",
    "    return full_hotels"
   ]
  },
  {
   "cell_type": "markdown",
   "metadata": {},
   "source": [
    "The <font color=\"green\">hotel_earnings()</font> function generates a dictionary containing the earnings for each hotel."
   ]
  },
  {
   "cell_type": "code",
   "execution_count": 82,
   "metadata": {},
   "outputs": [],
   "source": [
    "def hotel_earnings(assignment, guests_df, hotel_df):\n",
    "    hotel_revenue = {}\n",
    "    for guest, hotel in assignment.items():\n",
    "        discount = guests_df.loc[guest, 'discount']\n",
    "        price = hotel_df.loc[hotel, 'price']\n",
    "        revenue = price * (1 - discount)\n",
    "        hotel_revenue[hotel] = hotel_revenue.get(hotel, 0) + revenue\n",
    "        \n",
    "    return hotel_revenue"
   ]
  },
  {
   "cell_type": "markdown",
   "metadata": {},
   "source": [
    "The <font color=\"green\">total_volume_of_business1()</font> function calculates the total revenue generated by all hotels, taking into account the discount applied to each guest."
   ]
  },
  {
   "cell_type": "code",
   "execution_count": 83,
   "metadata": {},
   "outputs": [],
   "source": [
    "def total_volume_of_business1(hotel_revenue):\n",
    "    total_revenue = np.sum(hotel_revenue.values())\n",
    "    \n",
    "    return total_revenue"
   ]
  },
  {
   "cell_type": "markdown",
   "metadata": {},
   "source": [
    "The <font color=\"green\">customer_satisfaction_random()</font> function calculates customer satisfaction specifically for the random allocation strategy, addressing unique requirements such as verifying whether the assigned hotel is on each guest’s preference list. Although this function is used only once, it is stored separately for organizational purposes."
   ]
  },
  {
   "cell_type": "code",
   "execution_count": 84,
   "metadata": {},
   "outputs": [],
   "source": [
    "def customer_satisfaction_random(guests_df, assignment_random):\n",
    "    total_satisfaction_random = float(0)\n",
    "    for guest in guests_df.index:\n",
    "        preference_position = 0\n",
    "        hotel_pref = guests_df.loc[guest, 'preferences']\n",
    "        if assignment_random[guest] in hotel_pref:\n",
    "            for i, preferred_hotel in enumerate(hotel_pref):\n",
    "                if preferred_hotel == assignment_random[guest]:\n",
    "                    preference_position = i\n",
    "                    break\n",
    "            g_satisfaction = (len(hotel_pref) - preference_position) / len(hotel_pref)\n",
    "        else:\n",
    "            g_satisfaction = 0\n",
    "        total_satisfaction_random += g_satisfaction\n",
    "\n",
    "    average_satisfaction_random = total_satisfaction_random / len(guests_df)\n",
    "    \n",
    "    return average_satisfaction_random"
   ]
  },
  {
   "cell_type": "markdown",
   "metadata": {},
   "source": [
    "The <font color=\"green\">customer_satisfaction()</font> function calculates customer satisfaction for all other allocation strategies."
   ]
  },
  {
   "cell_type": "code",
   "execution_count": 85,
   "metadata": {},
   "outputs": [],
   "source": [
    "def customer_satisfaction(guests_df, assignment):\n",
    "    total_satisfaction = float(0)\n",
    "    for guest in guests_df.index:\n",
    "        if guest in assignment.keys():\n",
    "            preference_position = 0\n",
    "            hotel_pref = guests_df.loc[guest, 'preferences']\n",
    "            for i, preferred_hotel in enumerate(hotel_pref):\n",
    "                if preferred_hotel == assignment[guest]:\n",
    "                    preference_position = i\n",
    "                    break\n",
    "            g_satisfaction = (len(hotel_pref) - preference_position) / len(hotel_pref)\n",
    "        else:\n",
    "            g_satisfaction = 0\n",
    "        total_satisfaction += g_satisfaction\n",
    "\n",
    "    average_satisfaction = total_satisfaction / len(guests_df)\n",
    "    \n",
    "    return average_satisfaction"
   ]
  },
  {
   "cell_type": "markdown",
   "metadata": {},
   "source": [
    "### <p>Plots</p>"
   ]
  },
  {
   "cell_type": "markdown",
   "metadata": {},
   "source": [
    "Additional functions have been defined and stored in a separate file to generate graphs using the Matplotlib library."
   ]
  },
  {
   "cell_type": "markdown",
   "metadata": {},
   "source": [
    "The <font color=\"green\"> plot_hotel_revenue() </font> function creates a bar plot to display the revenue for each hotel, illustrating the impact of sorting order on earnings, if any."
   ]
  },
  {
   "cell_type": "code",
   "execution_count": 86,
   "metadata": {},
   "outputs": [],
   "source": [
    "def plot_hotel_revenue(assignment, guests_df, hotel_df):\n",
    "    hotel_revenue = {}\n",
    "    for guest, hotel in assignment.items():\n",
    "        discount = guests_df.loc[guest, 'discount']\n",
    "        price = hotel_df.loc[hotel, 'price']\n",
    "        revenue = price * (1 - discount)\n",
    "        hotel_revenue[hotel] = hotel_revenue.get(hotel, 0) + revenue\n",
    "    \n",
    "    hotels = list(hotel_revenue.keys())\n",
    "    revenues = list(hotel_revenue.values())\n",
    "    \n",
    "    plt.figure(figsize = (10, 6))\n",
    "    plt.bar(hotels, revenues, color='skyblue')\n",
    "    plt.xlabel('Hotels')\n",
    "    plt.ylabel('Revenue')\n",
    "    plt.title('Revenue by Hotel')\n",
    "    plt.xticks([])\n",
    "    plt.tight_layout()\n",
    "    plt.show()"
   ]
  },
  {
   "cell_type": "markdown",
   "metadata": {},
   "source": [
    "The <font color=\"green\"> revenue_comparison_by_strategy() </font> function compares the total revenue generated by each allocation strategy, highlighting instances where the allocation approach benefits either the hotels or the guests."
   ]
  },
  {
   "cell_type": "code",
   "execution_count": 87,
   "metadata": {},
   "outputs": [],
   "source": [
    "def revenue_comparison_by_strategy(total_revenue_random, total_revenue_preferences, total_revenue_price, total_revenue_availability):\n",
    "    strategies = ['Random', 'Preference', 'Price', 'Availability']\n",
    "    revenues = [total_revenue_random, total_revenue_preferences, total_revenue_price, total_revenue_availability]\n",
    "\n",
    "    plt.figure(figsize=(10, 6))\n",
    "    plt.bar(strategies, revenues, color=['blue', 'green', 'orange', 'purple'])\n",
    "    plt.title('Revenue Comparison by Strategy')\n",
    "    plt.xlabel('Allocation Strategy')\n",
    "    plt.ylabel('Total Revenue in €')\n",
    "    plt.show()"
   ]
  },
  {
   "cell_type": "markdown",
   "metadata": {},
   "source": [
    "The <font color=\"green\"> customer_satisfaction_by_strategy() </font> function, similar to the previous plot, compares customer satisfaction across different allocation strategies."
   ]
  },
  {
   "cell_type": "code",
   "execution_count": 88,
   "metadata": {},
   "outputs": [],
   "source": [
    "def customer_satisfaction_by_strategy(average_satisfaction_random, average_satisfaction_preferences, average_satisfaction_price, average_satisfaction_availability):\n",
    "    strategies = ['Random', 'Preference', 'Price', 'Availability']\n",
    "    satisfaction = [average_satisfaction_random, average_satisfaction_preferences, average_satisfaction_price, average_satisfaction_availability]\n",
    "\n",
    "    plt.figure(figsize = (10, 6))\n",
    "    plt.bar(strategies, satisfaction, color = ['blue', 'green', 'orange', 'purple'])\n",
    "    plt.title('Customer Satisfaction by Strategy')\n",
    "    plt.xlabel('Allocation Strategy')\n",
    "    plt.ylabel('Average Satisfaction')\n",
    "    plt.ylim(0, 1)\n",
    "    plt.show()"
   ]
  },
  {
   "cell_type": "markdown",
   "metadata": {},
   "source": [
    "## <p> Random allocation </p> ##"
   ]
  },
  {
   "cell_type": "markdown",
   "metadata": {},
   "source": [
    "<p> The function file (my_functions) is imported, and the DataFrames are created. </p>\n",
    "For simplicity, the indices of both the hotel_df and guests_df are set to the respective names, as these are guaranteed to be unique and progressively ordered values."
   ]
  },
  {
   "cell_type": "code",
   "execution_count": 89,
   "metadata": {},
   "outputs": [],
   "source": [
    "import random\n",
    "from modules.my_functions import *\n",
    "\n",
    "hotel_df, guests_df, priority_df = import_datasets()\n",
    "hotel_df, guests_df, priority_df = create_dataframes(hotel_df, guests_df, priority_df)\n",
    "hotel_df.set_index('name', inplace = True)\n",
    "guests_df.set_index('name', inplace = True)"
   ]
  },
  {
   "cell_type": "markdown",
   "metadata": {},
   "source": [
    "This command sets a seed for the random extrapolation, ensuring that the results remain consistent across runs, even though the process involves randomness."
   ]
  },
  {
   "cell_type": "code",
   "execution_count": 90,
   "metadata": {},
   "outputs": [],
   "source": [
    "random.seed(6)"
   ]
  },
  {
   "cell_type": "markdown",
   "metadata": {},
   "source": [
    "This is the core of the random allocation process: a dictionary is created with guests as the keys and the assigned hotels as the values. This dictionary will be used to calculate the results of the allocation."
   ]
  },
  {
   "cell_type": "code",
   "execution_count": 91,
   "metadata": {},
   "outputs": [],
   "source": [
    "assignment_random = {}\n",
    "for guest in guests_df.index:\n",
    "    assigned_hotel = None\n",
    "    while assigned_hotel is None:\n",
    "        chosen_hotel = random.choice(hotel_df.index)\n",
    "        row = hotel_df.loc[chosen_hotel]\n",
    "        if row['final_rooms'] > 0:\n",
    "            assignment_random[guest] = chosen_hotel\n",
    "            hotel_df.loc[chosen_hotel, 'final_rooms'] -= 1\n",
    "            assigned_hotel = chosen_hotel"
   ]
  },
  {
   "cell_type": "markdown",
   "metadata": {},
   "source": [
    "The requests for this allocation are computed, and the results are subsequently compared in the final report."
   ]
  },
  {
   "cell_type": "code",
   "execution_count": 92,
   "metadata": {},
   "outputs": [],
   "source": [
    "assigned_guests_random = number_of_customers_accommodated(assignment_random)\n",
    "\n",
    "occupied_rooms_random = number_of_rooms_occupied(hotel_df)\n",
    "\n",
    "full_hotels_random = number_of_different_hotels_occupied(hotel_df)\n",
    "\n",
    "hotel_revenue_random = hotel_earnings(assignment_random, guests_df, hotel_df)\n",
    "total_revenue_random = total_volume_of_business1(hotel_revenue_random)\n",
    "\n",
    "# The random allocation has a specific function\n",
    "average_satisfaction_random = customer_satisfaction_random(guests_df, assignment_random)"
   ]
  },
  {
   "cell_type": "markdown",
   "metadata": {},
   "source": [
    "Plots can be generated using the Matplotlib library to compare results. The following illustrates the revenue for each hotel."
   ]
  },
  {
   "cell_type": "code",
   "execution_count": 93,
   "metadata": {},
   "outputs": [
    {
     "data": {
      "image/png": "[encoded data removed]",
      "text/plain": [
       "<Figure size 800x450 with 1 Axes>"
      ]
     },
     "metadata": {},
     "output_type": "display_data"
    }
   ],
   "source": [
    "from modules.my_graphs import *\n",
    "\n",
    "plot_hotel_revenue(assignment_random, guests_df, hotel_df)"
   ]
  },
  {
   "cell_type": "markdown",
   "metadata": {},
   "source": [
    "The information extracted from this plot is limited due to the introduction of a randomness factor, which results in similar revenue figures across all hotels, with the exception of a few outlier values."
   ]
  },
  {
   "cell_type": "markdown",
   "metadata": {},
   "source": [
    "## <p> Preference allocation </p> ##"
   ]
  },
  {
   "cell_type": "markdown",
   "metadata": {},
   "source": [
    "<p> The function file (my_functions) is imported, and the DataFrames are created. </p>\n",
    "For simplicity, the indices of both the hotel_df and guests_df are set to the respective names, as these are guaranteed to be unique and progressively ordered values."
   ]
  },
  {
   "cell_type": "code",
   "execution_count": 94,
   "metadata": {},
   "outputs": [],
   "source": [
    "from modules.my_functions import *\n",
    "\n",
    "hotel_df, guests_df, priority_df = import_datasets()\n",
    "hotel_df, guests_df, priority_df = create_dataframes(hotel_df, guests_df, priority_df)\n",
    "hotel_df.set_index('name', inplace = True)\n",
    "guests_df.set_index('name', inplace = True)"
   ]
  },
  {
   "cell_type": "markdown",
   "metadata": {},
   "source": [
    "This is the core of the preference allocation process: a dictionary is created with guests as the keys and the assigned hotels as the values. This dictionary will be used to calculate the results of the allocation."
   ]
  },
  {
   "cell_type": "code",
   "execution_count": 95,
   "metadata": {},
   "outputs": [],
   "source": [
    "assignment_preferences = {}\n",
    "for guest in guests_df.index:\n",
    "    preferences = guests_df.loc[guests_df.index == guest, 'preferences'].values[0]\n",
    "    for chosen_hotel in preferences:\n",
    "        row = hotel_df.loc[chosen_hotel]\n",
    "        if row['final_rooms'] > 0:\n",
    "            assignment_preferences[guest] = chosen_hotel\n",
    "            hotel_df.loc[chosen_hotel, 'final_rooms'] -= 1\n",
    "            break"
   ]
  },
  {
   "cell_type": "markdown",
   "metadata": {},
   "source": [
    "The requests for this allocation are computed, and the results are subsequently compared in the final report."
   ]
  },
  {
   "cell_type": "code",
   "execution_count": 96,
   "metadata": {},
   "outputs": [],
   "source": [
    "assigned_guests_preferences = number_of_customers_accommodated(assignment_preferences)\n",
    "\n",
    "occupied_rooms_preferences = number_of_rooms_occupied(hotel_df)\n",
    "\n",
    "full_hotels_preferences = number_of_different_hotels_occupied(hotel_df)\n",
    "\n",
    "hotel_revenue_preferences = hotel_earnings(assignment_preferences, guests_df, hotel_df)\n",
    "total_revenue_preferences = total_volume_of_business1(hotel_revenue_preferences)\n",
    "\n",
    "average_satisfaction_preferences = customer_satisfaction(guests_df, assignment_preferences)"
   ]
  },
  {
   "cell_type": "code",
   "execution_count": 97,
   "metadata": {},
   "outputs": [
    {
     "data": {
      "image/png": "[encoded data removed]",
      "text/plain": [
       "<Figure size 800x450 with 1 Axes>"
      ]
     },
     "metadata": {},
     "output_type": "display_data"
    }
   ],
   "source": [
    "from modules.my_graphs import *\n",
    "\n",
    "plot_hotel_revenue(assignment_preferences, guests_df, hotel_df)"
   ]
  },
  {
   "cell_type": "markdown",
   "metadata": {},
   "source": [
    "Similar to the previous graph, there are no revenue-focused trends evident, and no particularly notable situations arise. It can, however, be inferred that some hotels have been preferred by guests, resulting in higher revenue for those establishments."
   ]
  },
  {
   "cell_type": "markdown",
   "metadata": {},
   "source": [
    "## <p> Price allocation </p> ##"
   ]
  },
  {
   "cell_type": "markdown",
   "metadata": {},
   "source": [
    "The function file (my_functions) is imported, and the DataFrames are created. "
   ]
  },
  {
   "cell_type": "code",
   "execution_count": 98,
   "metadata": {},
   "outputs": [],
   "source": [
    "from modules.my_functions import *\n",
    "\n",
    "hotel_df, guests_df, priority_df = import_datasets()\n",
    "hotel_df, guests_df, priority_df = create_dataframes(hotel_df, guests_df, priority_df)"
   ]
  },
  {
   "cell_type": "markdown",
   "metadata": {},
   "source": [
    "<p> The Price strategy prioritizes allocating guests to the cheaper hotels first. To achieve this, the <font color=\"green\">sort_values()</font> function is used. </p>\n",
    "For simplicity, the indices of both the hotel_df and guests_df are set to the respective names, as these are guaranteed to be unique and progressively ordered values."
   ]
  },
  {
   "cell_type": "code",
   "execution_count": 99,
   "metadata": {},
   "outputs": [],
   "source": [
    "hotel_df.sort_values(by = 'price', ascending = True, inplace = True)\n",
    "hotel_df.set_index('name', inplace = True)\n",
    "guests_df.set_index('name', inplace = True)"
   ]
  },
  {
   "cell_type": "markdown",
   "metadata": {},
   "source": [
    "Using the previously introduced function <font color=\"green\">hotel_wise_allocation()</font>, a dictionary is created with guests as the keys and the assigned hotels as the values. This dictionary will then be used to calculate the results of the allocation."
   ]
  },
  {
   "cell_type": "code",
   "execution_count": 100,
   "metadata": {},
   "outputs": [],
   "source": [
    "assignment_price = {}\n",
    "assignment_price = hotel_wise_allocation(hotel_df, guests_df, assignment_price)"
   ]
  },
  {
   "cell_type": "markdown",
   "metadata": {},
   "source": [
    "The requests for this allocation are computed, and the results are subsequently compared in the final report."
   ]
  },
  {
   "cell_type": "code",
   "execution_count": 101,
   "metadata": {},
   "outputs": [],
   "source": [
    "assigned_guests_price = number_of_customers_accommodated(assignment_price)\n",
    "\n",
    "occupied_rooms_price = number_of_rooms_occupied(hotel_df)\n",
    "\n",
    "full_hotels_price = number_of_different_hotels_occupied(hotel_df)\n",
    "\n",
    "hotel_revenue_price = hotel_earnings(assignment_price, guests_df, hotel_df)\n",
    "total_revenue_price = total_volume_of_business1(hotel_revenue_price)\n",
    "\n",
    "average_satisfaction_price = customer_satisfaction(guests_df, assignment_price)"
   ]
  },
  {
   "cell_type": "code",
   "execution_count": 102,
   "metadata": {},
   "outputs": [
    {
     "data": {
      "image/png": "[encoded data removed]",
      "text/plain": [
       "<Figure size 800x450 with 1 Axes>"
      ]
     },
     "metadata": {},
     "output_type": "display_data"
    }
   ],
   "source": [
    "from modules.my_graphs import *\n",
    "\n",
    "plot_hotel_revenue(assignment_price, guests_df, hotel_df)"
   ]
  },
  {
   "cell_type": "markdown",
   "metadata": {},
   "source": [
    "This plot is arguably the most insightful of the series. As observed, the first hotels, which are likely to be fully booked due to the price-oriented allocation, exhibit minimal revenue. As we progress further, the hotels begin to generate higher revenue, reaching a point where there is a significant decline, indicating a sharp drop in demand. Beyond this point, many hotels experience zero bookings. From an economic perspective, this can be interpreted as a market equilibrium: if prices are set too high, demand diminishes."
   ]
  },
  {
   "cell_type": "markdown",
   "metadata": {},
   "source": [
    "## <p> Availability allocation </p> ##"
   ]
  },
  {
   "cell_type": "markdown",
   "metadata": {},
   "source": [
    "The function file (my_functions) is imported, and the DataFrames are created."
   ]
  },
  {
   "cell_type": "code",
   "execution_count": 103,
   "metadata": {},
   "outputs": [],
   "source": [
    "from modules.my_functions import *\n",
    "\n",
    "hotel_df, guests_df, priority_df = import_datasets()\n",
    "hotel_df, guests_df, priority_df = create_dataframes(hotel_df, guests_df, priority_df)"
   ]
  },
  {
   "cell_type": "markdown",
   "metadata": {},
   "source": [
    "<p> The Availability strategy prioritizes allocating guests to hotels with more rooms. To implement this, the <font color=\"green\">sort_values()</font> function is used, which is the only difference between the code for price allocation and availability allocation. </p>\n",
    "For simplicity, the indices of both the hotel_df and guests_df are set to the respective names, as these are guaranteed to be unique and progressively ordered values."
   ]
  },
  {
   "cell_type": "code",
   "execution_count": 104,
   "metadata": {},
   "outputs": [],
   "source": [
    "hotel_df.sort_values(by = 'initial_rooms', ascending = False, inplace = True)\n",
    "hotel_df.set_index('name', inplace = True)\n",
    "guests_df.set_index('name', inplace = True)"
   ]
  },
  {
   "cell_type": "markdown",
   "metadata": {},
   "source": [
    "Using the previously introduced function <font color=\"green\">hotel_wise_allocation()</font>, a dictionary is created with guests as the keys and the assigned hotels as the values. This dictionary will then be used to calculate the results of the allocation."
   ]
  },
  {
   "cell_type": "code",
   "execution_count": 105,
   "metadata": {},
   "outputs": [],
   "source": [
    "assignment_availability = {}\n",
    "assignment_availability = hotel_wise_allocation(hotel_df, guests_df, assignment_availability)"
   ]
  },
  {
   "cell_type": "markdown",
   "metadata": {},
   "source": [
    "The requests for this allocation are computed, and the results are subsequently compared in the final report."
   ]
  },
  {
   "cell_type": "code",
   "execution_count": 106,
   "metadata": {},
   "outputs": [],
   "source": [
    "assigned_guests_availability = number_of_customers_accommodated(assignment_availability)\n",
    "\n",
    "occupied_rooms_availability = number_of_rooms_occupied(hotel_df)\n",
    "\n",
    "full_hotels_availability = number_of_different_hotels_occupied(hotel_df)\n",
    "\n",
    "hotel_revenue_availability = hotel_earnings(assignment_availability, guests_df, hotel_df)\n",
    "total_revenue_availability = total_volume_of_business1(hotel_revenue_availability)\n",
    "\n",
    "average_satisfaction_availability = customer_satisfaction(guests_df, assignment_availability)"
   ]
  },
  {
   "cell_type": "code",
   "execution_count": 107,
   "metadata": {},
   "outputs": [
    {
     "data": {
      "image/png": "[encoded data removed]",
      "text/plain": [
       "<Figure size 800x450 with 1 Axes>"
      ]
     },
     "metadata": {},
     "output_type": "display_data"
    }
   ],
   "source": [
    "from modules.my_graphs import *\n",
    "\n",
    "plot_hotel_revenue(assignment_availability, guests_df, hotel_df)"
   ]
  },
  {
   "cell_type": "markdown",
   "metadata": {},
   "source": [
    "This plot illustrates the relationship between the number of available rooms and revenue. As anticipated, it is evident that hotels with a greater number of rooms tend to generate higher revenue. However, it is also observed that not all hotels with a high room availability achieve high revenue, which is likely linked to pricing strategies. Finding the optimal balance between price, room availability, and customer preferences is crucial for success."
   ]
  },
  {
   "cell_type": "markdown",
   "metadata": {},
   "source": [
    "## <p> Final report </p> ##"
   ]
  },
  {
   "cell_type": "code",
   "execution_count": 108,
   "metadata": {},
   "outputs": [
    {
     "name": "stdout",
     "output_type": "stream",
     "text": [
      "+-----------------------+-------------------+------------------+-------------------------+-----------------+---------------------+\n",
      "| Allocation Strategy   |   Assigned Guests |   Occupied Rooms |   Hotels Fully Occupied |   Total Revenue |   Avg. Satisfaction |\n",
      "+=======================+===================+==================+=========================+=================+=====================+\n",
      "| Random Strategy       |              4000 |             4000 |                     246 |          637009 |               0.033 |\n",
      "+-----------------------+-------------------+------------------+-------------------------+-----------------+---------------------+\n",
      "| Preference Strategy   |              3975 |             3975 |                     255 |          643598 |               0.975 |\n",
      "+-----------------------+-------------------+------------------+-------------------------+-----------------+---------------------+\n",
      "| Price Strategy        |              3926 |             3926 |                     319 |          564304 |               0.542 |\n",
      "+-----------------------+-------------------+------------------+-------------------------+-----------------+---------------------+\n",
      "| Availability Strategy |              3953 |             3953 |                     262 |          629565 |               0.53  |\n",
      "+-----------------------+-------------------+------------------+-------------------------+-----------------+---------------------+\n"
     ]
    }
   ],
   "source": [
    "from tabulate import tabulate\n",
    "\n",
    "allocation_results = [\n",
    "    [\"Random Strategy\", assigned_guests_random, occupied_rooms_random, full_hotels_random, total_revenue_random, round(average_satisfaction_random, 3)],\n",
    "    [\"Preference Strategy\", assigned_guests_preferences, occupied_rooms_preferences, full_hotels_preferences, total_revenue_preferences, round(average_satisfaction_preferences, 3)],\n",
    "    [\"Price Strategy\", assigned_guests_price, occupied_rooms_price, full_hotels_price, total_revenue_price, round(average_satisfaction_price, 3)],\n",
    "    [\"Availability Strategy\", assigned_guests_availability, occupied_rooms_availability, full_hotels_availability, total_revenue_availability, round(average_satisfaction_availability, 3)],\n",
    "]\n",
    "\n",
    "headers = [\"Allocation Strategy\", \"Assigned Guests\", \"Occupied Rooms\", \"Hotels Fully Occupied\", \"Total Revenue\", \"Avg. Satisfaction\"]\n",
    "print(tabulate(allocation_results, headers=headers, tablefmt=\"grid\"))"
   ]
  },
  {
   "cell_type": "markdown",
   "metadata": {},
   "source": [
    "Matplotlib can be used to generate graphs for analyzing the results."
   ]
  },
  {
   "cell_type": "markdown",
   "metadata": {},
   "source": [
    "As demonstrated in the following bar plot, the final revenues for each strategy are similar, with the exception of the price allocation strategy. Intuitively, this is understandable, as the primary objective of this strategy is to prioritize occupancy of cheaper hotels, which results in lower revenue."
   ]
  },
  {
   "cell_type": "code",
   "execution_count": 109,
   "metadata": {},
   "outputs": [
    {
     "data": {
      "image/png": "[encoded data removed]",
      "text/plain": [
       "<Figure size 800x450 with 1 Axes>"
      ]
     },
     "metadata": {},
     "output_type": "display_data"
    }
   ],
   "source": [
    "from modules.my_graphs import *\n",
    "\n",
    "revenue_comparison_by_strategy(total_revenue_random, total_revenue_preferences, total_revenue_price, total_revenue_availability)"
   ]
  },
  {
   "cell_type": "markdown",
   "metadata": {},
   "source": [
    "The second plot examines customer satisfaction. In a manner similar to the previous plot, the results align with expectations: when guest preferences are prioritized as the primary condition, customer satisfaction approaches 100%. Additionally, it is observed that when preferences are treated as a secondary condition, customer satisfaction remains around 50%, both in the price allocation and availability allocation strategies. In conclusion, the random strategy proves to be the least effective in this regard, as it may result in guests being assigned to hotels outside of their preference list."
   ]
  },
  {
   "cell_type": "code",
   "execution_count": 110,
   "metadata": {},
   "outputs": [
    {
     "data": {
      "image/png": "[encoded data removed]",
      "text/plain": [
       "<Figure size 800x450 with 1 Axes>"
      ]
     },
     "metadata": {},
     "output_type": "display_data"
    }
   ],
   "source": [
    "from modules.my_graphs import *\n",
    "\n",
    "customer_satisfaction_by_strategy(average_satisfaction_random, average_satisfaction_preferences, average_satisfaction_price, average_satisfaction_availability)"
   ]
  },
  {
   "cell_type": "markdown",
   "metadata": {},
   "source": [
    "## Streamlit Integration"
   ]
  },
  {
   "cell_type": "markdown",
   "metadata": {},
   "source": [
    "After making minor adjustments to the various allocation processes to convert them into functions, a new file (*app_st.py*) was created to incorporate the required Streamlit code.  \n",
    "\n",
    "Following the import of all necessary libraries, the code proceeds as outlined below."
   ]
  },
  {
   "cell_type": "code",
   "execution_count": 111,
   "metadata": {},
   "outputs": [
    {
     "name": "stderr",
     "output_type": "stream",
     "text": [
      "2024-11-18 18:38:20.459 Thread 'MainThread': missing ScriptRunContext! This warning can be ignored when running in bare mode.\n",
      "2024-11-18 18:38:20.460 Thread 'MainThread': missing ScriptRunContext! This warning can be ignored when running in bare mode.\n",
      "2024-11-18 18:38:20.461 Thread 'MainThread': missing ScriptRunContext! This warning can be ignored when running in bare mode.\n",
      "2024-11-18 18:38:20.461 Thread 'MainThread': missing ScriptRunContext! This warning can be ignored when running in bare mode.\n",
      "2024-11-18 18:38:20.463 Thread 'MainThread': missing ScriptRunContext! This warning can be ignored when running in bare mode.\n",
      "2024-11-18 18:38:20.464 Thread 'MainThread': missing ScriptRunContext! This warning can be ignored when running in bare mode.\n",
      "2024-11-18 18:38:20.465 Thread 'MainThread': missing ScriptRunContext! This warning can be ignored when running in bare mode.\n",
      "2024-11-18 18:38:20.466 Thread 'MainThread': missing ScriptRunContext! This warning can be ignored when running in bare mode.\n",
      "2024-11-18 18:38:20.466 Thread 'MainThread': missing ScriptRunContext! This warning can be ignored when running in bare mode.\n",
      "2024-11-18 18:38:20.468 Thread 'MainThread': missing ScriptRunContext! This warning can be ignored when running in bare mode.\n",
      "2024-11-18 18:38:20.469 Thread 'MainThread': missing ScriptRunContext! This warning can be ignored when running in bare mode.\n",
      "2024-11-18 18:38:20.469 Thread 'MainThread': missing ScriptRunContext! This warning can be ignored when running in bare mode.\n",
      "2024-11-18 18:38:20.470 Thread 'MainThread': missing ScriptRunContext! This warning can be ignored when running in bare mode.\n",
      "2024-11-18 18:38:20.471 Thread 'MainThread': missing ScriptRunContext! This warning can be ignored when running in bare mode.\n",
      "2024-11-18 18:38:20.471 Thread 'MainThread': missing ScriptRunContext! This warning can be ignored when running in bare mode.\n"
     ]
    }
   ],
   "source": [
    "import sys\n",
    "import streamlit as st\n",
    "import pandas as pd\n",
    "from modules.my_functions import *\n",
    "from stream_section.my_graph_st import *\n",
    "from stream_section.all_allocations import *\n",
    "\n",
    "sys.path.append('C:/Users/Utente/Desktop/dse/1t/python_project/macchi_dse_hotel')\n",
    "\n",
    "hotel_df, guests_df, priority_df = import_datasets()\n",
    "hotel_df, guests_df, priority_df = create_dataframes(hotel_df, guests_df, priority_df)\n",
    "\n",
    "st.title(\"🏨 Hotel Allocation Strategies\")\n",
    "\n",
    "st.sidebar.header(\"Allocation Options\")\n",
    "strategy = st.sidebar.selectbox(\"Choose Allocation Strategy\", [\"Random\", \"Preferences\", \"Price\", \"Availability\"])\n",
    "\n",
    "if st.sidebar.button(\"Run Allocation\"):\n",
    "    if strategy == \"Random\":\n",
    "        allocation, assigned_guests, occupied_rooms, full_hotels, total_revenue, average_satisfaction = allocate_random(guests_df, hotel_df)\n",
    "    elif strategy == \"Preferences\":\n",
    "        allocation, assigned_guests, occupied_rooms, full_hotels, total_revenue, average_satisfaction = allocate_preferences(guests_df, hotel_df)\n",
    "    elif strategy == \"Price\":\n",
    "        allocation, assigned_guests, occupied_rooms, full_hotels, total_revenue, average_satisfaction = allocate_by_price(guests_df, hotel_df)\n",
    "    elif strategy == \"Availability\":\n",
    "        allocation, assigned_guests, occupied_rooms, full_hotels, total_revenue, average_satisfaction = allocate_by_availability(guests_df, hotel_df)\n",
    "    else:\n",
    "        st.error(\"Invalid Strategy Selected\")\n",
    "        sys.exit()\n",
    "\n",
    "    st.header(f\"📋 Results for {strategy} Allocation\")\n",
    "    st.success(\"Allocation completed successfully!\")\n",
    "\n",
    "    st.subheader(\"📊 Key Metrics\")\n",
    "    col1, col2, col3 = st.columns(3)\n",
    "    col1.metric(\"Guests Accommodated\", f\"{assigned_guests}\")\n",
    "    col2.metric(\"Rooms Occupied\", f\"{occupied_rooms}\")\n",
    "    col3.metric(\"Hotels Fully Occupied\", f\"{full_hotels}\")\n",
    "\n",
    "    col4, col5 = st.columns(2)\n",
    "    col4.metric(\"Total Revenue\", f\"€{round(total_revenue, 2)}\")\n",
    "    col5.metric(\"Average Satisfaction\", f\"{round(average_satisfaction * 100, 2)}%\")\n",
    "\n",
    "    st.subheader(\"🛏️ Guest-Hotel Assignments\")\n",
    "    assignments_df = pd.DataFrame(list(allocation.items()), columns=[\"Guest\", \"Hotel\"])\n",
    "    st.dataframe(assignments_df.reset_index(drop = True))\n",
    "\n",
    "    unassigned_guests = list(set(guests_df.index) - set(assignments_df[\"Guest\"]))\n",
    "\n",
    "    if unassigned_guests:\n",
    "        st.warning(f\"⚠️ {len(unassigned_guests)} Guests could not be assigned\")\n",
    "        unassigned_df = pd.DataFrame(unassigned_guests, columns=[\"Unassigned Guests\"])\n",
    "        st.dataframe(unassigned_df.reset_index(drop = True), height=200)\n",
    "    else:\n",
    "        st.success(\"🎉 All guests have been successfully assigned!\")\n",
    "\n",
    "    st.subheader(\"📈 Revenue Distribution by Hotel\")\n",
    "    plot_hotel_revenue(allocation, guests_df, hotel_df)\n"
   ]
  },
  {
   "cell_type": "markdown",
   "metadata": {},
   "source": [
    "<p> To review the results, the file *app_st.py* is opened via the terminal. </p>\n",
    "\n",
    " <p> Streamlit enhances the interactivity of the code, offering significant potential for expansion within this project. For example, it could enable users to upload their own lists of clients and hotels or customize the number of guests and hotels to be allocated, thereby avoiding hardcoded sections. </p>\n",
    "\n",
    "<p> The possibilities with this library are vast. In this case, it is utilized to facilitate navigation through the results of the various allocation strategies, allowing users to explore the outcomes interactively. </p>"
   ]
  },
  {
   "cell_type": "markdown",
   "metadata": {},
   "source": [
    "## <p> Conclusion </p> ##"
   ]
  },
  {
   "cell_type": "markdown",
   "metadata": {},
   "source": [
    "Through the analysis of various allocation strategies, we gained insights about different approaches in maximizing both revenue and customer satisfaction. The strategies demonstrated that a preference-based approach not only enhance guest satisfaction, but it is also the best for revenue generation, reaching better results than the cost-based allocation even if not by a lot."
   ]
  }
 ],
 "metadata": {
  "kernelspec": {
   "display_name": "venv_project",
   "language": "python",
   "name": "python3"
  },
  "language_info": {
   "codemirror_mode": {
    "name": "ipython",
    "version": 3
   },
   "file_extension": ".py",
   "mimetype": "text/x-python",
   "name": "python",
   "nbconvert_exporter": "python",
   "pygments_lexer": "ipython3",
   "version": "3.12.5"
  }
 },
 "nbformat": 4,
 "nbformat_minor": 2
}
